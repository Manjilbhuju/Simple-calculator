{
 "cells": [
  {
   "cell_type": "code",
   "execution_count": 7,
   "id": "6f240d55",
   "metadata": {},
   "outputs": [
    {
     "name": "stdout",
     "output_type": "stream",
     "text": [
      "Operations\n",
      "+ for Addition\n",
      "- for Subtraction\n",
      "* for Multiplication\n",
      "/ for Division\n",
      "Enter a number 12\n",
      "Enter an operation *\n",
      "Enter a number 10\n",
      "120\n"
     ]
    }
   ],
   "source": [
    "print(\"Operations\")\n",
    "print(\"+ for Addition\")\n",
    "print(\"- for Subtraction\")\n",
    "print(\"* for Multiplication\")\n",
    "print(\"/ for Division\")\n",
    "\n",
    "Num = int(input(\"Enter a number \"))\n",
    "operation = input(\"Enter an operation \")\n",
    "Num2 = int(input(\"Enter a number \"))\n",
    "Er = (\"Error\")\n",
    "\n",
    "if operation == \"+\":\n",
    "    print(Num + Num2)\n",
    "elif operation == \"-\" :\n",
    "    print(Num - Num2)\n",
    "elif operation == \"*\" :\n",
    "    print(Num * Num2)\n",
    "elif operation == \"/\" :\n",
    "    print(Num / Num2)\n",
    "else:\n",
    "    print(Er)"
   ]
  },
  {
   "cell_type": "code",
   "execution_count": null,
   "id": "7a919a11",
   "metadata": {},
   "outputs": [],
   "source": []
  },
  {
   "cell_type": "code",
   "execution_count": null,
   "id": "baed5453",
   "metadata": {},
   "outputs": [],
   "source": []
  }
 ],
 "metadata": {
  "kernelspec": {
   "display_name": "Python 3 (ipykernel)",
   "language": "python",
   "name": "python3"
  },
  "language_info": {
   "codemirror_mode": {
    "name": "ipython",
    "version": 3
   },
   "file_extension": ".py",
   "mimetype": "text/x-python",
   "name": "python",
   "nbconvert_exporter": "python",
   "pygments_lexer": "ipython3",
   "version": "3.9.13"
  }
 },
 "nbformat": 4,
 "nbformat_minor": 5
}
